{
  "nbformat": 4,
  "nbformat_minor": 0,
  "metadata": {
    "colab": {
      "provenance": []
    },
    "kernelspec": {
      "name": "python3",
      "display_name": "Python 3"
    },
    "language_info": {
      "name": "python"
    }
  },
  "cells": [
    {
      "cell_type": "markdown",
      "source": [
        "Outils et écosystème de la science des données"
      ],
      "metadata": {
        "id": "Lwgr6l_P4fQS"
      }
    },
    {
      "cell_type": "markdown",
      "source": [
        "Dans ce notebook, les outils et l'écosystème de la science des données sont résumés."
      ],
      "metadata": {
        "id": "5BBM_vvY_3Fw"
      }
    },
    {
      "cell_type": "markdown",
      "source": [
        "**Objectifs :**\n",
        "\n",
        "Java, JavaScript, PHP, Go, Ruby et Visual Basic"
      ],
      "metadata": {
        "id": "353FqWkD3D9t"
      }
    },
    {
      "cell_type": "markdown",
      "source": [
        "Certains des langages populaires que les scientifiques des données utilisent sont:\n",
        "1. Python\n",
        "2. R\n",
        "3. SQL\n",
        "4. Scala\n",
        "5. C++\n",
        "6. Julia"
      ],
      "metadata": {
        "id": "sMrb3TIZCYhf"
      }
    },
    {
      "cell_type": "markdown",
      "source": [
        "Certaines des bibliothèques couramment utilisées par les scientifiques des données incluent :\n",
        "1. Pandas\n",
        "2. NumPy\n",
        "3. Matplotlib\n",
        "4. Seaborn\n",
        "5. Scikit-learn\n"
      ],
      "metadata": {
        "id": "G7NhnucFbM2e"
      }
    },
    {
      "cell_type": "markdown",
      "source": [
        "| Outils de la science des données |\n",
        "| -------------|\n",
        "| PyCharm |\n",
        "| Spyder |\n",
        "| Microsoft Visual Studio |"
      ],
      "metadata": {
        "id": "mEnDw32CogiX"
      }
    },
    {
      "cell_type": "markdown",
      "source": [
        "2+3 = 5\n",
        "\n",
        "3+6 = 9\n",
        "\n",
        "4-2 = 2\n",
        "\n",
        "### Voici quelques exemples d'évaluation d'expressions arithmétiques en Python"
      ],
      "metadata": {
        "id": "AAGxyA9qrHRh"
      }
    },
    {
      "cell_type": "code",
      "source": [
        "#Ceci est une simple expression arithmétique pour multiplier puis additionner des entiers\n",
        "\n",
        "(3*4)+5"
      ],
      "metadata": {
        "colab": {
          "base_uri": "https://localhost:8080/"
        },
        "id": "z77yWtms0Y3g",
        "outputId": "976f2ef6-c2c6-451c-ed7d-77230e14a16d"
      },
      "execution_count": 1,
      "outputs": [
        {
          "output_type": "execute_result",
          "data": {
            "text/plain": [
              "17"
            ]
          },
          "metadata": {},
          "execution_count": 1
        }
      ]
    },
    {
      "cell_type": "code",
      "source": [
        "#Cela convertira 200 minutes en heures en divisant par 60\n",
        "200/60"
      ],
      "metadata": {
        "colab": {
          "base_uri": "https://localhost:8080/"
        },
        "id": "X1MHAW7e1I1A",
        "outputId": "cb6d41e4-455b-4058-8466-d625a70e5499"
      },
      "execution_count": 2,
      "outputs": [
        {
          "output_type": "execute_result",
          "data": {
            "text/plain": [
              "3.3333333333333335"
            ]
          },
          "metadata": {},
          "execution_count": 2
        }
      ]
    },
    {
      "cell_type": "markdown",
      "source": [
        "## Auteur\n",
        "\n",
        "Ndolane Diouf"
      ],
      "metadata": {
        "id": "mKwPSsXQ5ipl"
      }
    }
  ]
}